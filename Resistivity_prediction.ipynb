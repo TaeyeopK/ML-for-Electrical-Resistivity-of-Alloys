{
 "cells": [
  {
   "cell_type": "code",
   "execution_count": 1,
   "id": "0bbbc7b5",
   "metadata": {},
   "outputs": [],
   "source": [
    "import pandas as pd\n",
    "import tensorflow as tf\n",
    "from sklearn.preprocessing import MinMaxScaler\n",
    "import warnings\n",
    "warnings.filterwarnings(\"ignore\")"
   ]
  },
  {
   "cell_type": "markdown",
   "id": "3f17d8c1",
   "metadata": {},
   "source": [
    "### Preprocessing of Pre-trained Experimental Electrical Resistivity Data"
   ]
  },
  {
   "cell_type": "code",
   "execution_count": 2,
   "id": "bd43add6",
   "metadata": {},
   "outputs": [],
   "source": [
    "# load experimental dataset used for the model training\n",
    "train = pd.read_csv('./csv/Train.csv')\n",
    "val = pd.read_csv('./csv/Val.csv')\n",
    "total = pd.concat([train, val], axis=0).reset_index(drop=True)\n",
    "\n",
    "# Intrinsic and extrinsic features\n",
    "# t: thickness of the film [nm], depo: deposition rate [nm/s], \n",
    "# r: Average atomic radius [], del_r: Atomic radius mismatch, del_EN: Electronegativity difference, \n",
    "# S: Mixing entropy [J/mol-K], H: Heat of mixing [kJ/mol], VEC: Average valence electron concentration, Th: Homologous temperature\n",
    "# Formulas for input compositional features can be found in methods section of the manuscript\n",
    "norm_list = ['t', 'depo', 'r', 'del_r', 'del_EN', 'S', 'H', 'VEC', 'Th']\n",
    "normalize = total[norm_list]\n",
    "\n",
    "# Normalization\n",
    "scaler = MinMaxScaler()\n",
    "normalize[:] = scaler.fit_transform(normalize[:])"
   ]
  },
  {
   "cell_type": "markdown",
   "id": "742bb403",
   "metadata": {},
   "source": [
    "### Predicting Electrical Resistivity of Alloys"
   ]
  },
  {
   "cell_type": "code",
   "execution_count": 8,
   "id": "2693d63c",
   "metadata": {},
   "outputs": [],
   "source": [
    "# Load compositional features and thickness of unseen alloy compositions\n",
    "file_name = 'Test_features' # Copy and input compositional feature you want to evaluate\n",
    "df = pd.read_csv(f'./csv_test/{file_name}.csv')\n",
    "\n",
    "# Calculate the features which is determined by the sputtering conditions\n",
    "df['depo'] = df['t'] / 3000 # divide thickness by deposition time [sec]\n",
    "df['Th'] = 773 / df['Tm'] # Tsub is the substrate temperature [K], you set during film deposition\n",
    "\n",
    "# Normalization using scaler fitted for features used for the model training\n",
    "df_norm = df.loc[:, norm_list]\n",
    "df_norm[:] = scaler.transform(df_norm[:])\n",
    "\n",
    "# Load pre-trained electrical resistivity prediction model\n",
    "model = tf.keras.models.load_model(f'./model/ANN.h5', compile=False)\n",
    "\n",
    "# Predict resistivity of unseen alloy compositions and save in result folder\n",
    "pred = model(tf.convert_to_tensor(df_norm, dtype=tf.float32))\n",
    "pred_df = pd.DataFrame(pred.numpy(), columns=['resistivity_pred'])\n",
    "pd.concat([df, pred_df], axis=1).to_csv(f'./result/{file_name}_pred.csv', index=False)"
   ]
  },
  {
   "cell_type": "code",
   "execution_count": 10,
   "id": "042c7570",
   "metadata": {},
   "outputs": [],
   "source": []
  },
  {
   "cell_type": "code",
   "execution_count": null,
   "id": "9497faee-f50f-455e-a9d6-a345fdd663b9",
   "metadata": {},
   "outputs": [],
   "source": []
  },
  {
   "cell_type": "code",
   "execution_count": null,
   "id": "07d354bc-31d8-4951-88fa-34ac992fe0dd",
   "metadata": {},
   "outputs": [],
   "source": []
  }
 ],
 "metadata": {
  "kernelspec": {
   "display_name": "Python 3 (ipykernel)",
   "language": "python",
   "name": "python3"
  },
  "language_info": {
   "codemirror_mode": {
    "name": "ipython",
    "version": 3
   },
   "file_extension": ".py",
   "mimetype": "text/x-python",
   "name": "python",
   "nbconvert_exporter": "python",
   "pygments_lexer": "ipython3",
   "version": "3.11.4"
  }
 },
 "nbformat": 4,
 "nbformat_minor": 5
}
